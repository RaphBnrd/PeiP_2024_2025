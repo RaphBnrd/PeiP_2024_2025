{
 "cells": [
  {
   "cell_type": "markdown",
   "metadata": {},
   "source": [
    "# Exercice 5"
   ]
  },
  {
   "cell_type": "markdown",
   "metadata": {},
   "source": [
    "Avant de résoudre l'exercice, voilà comment créer une erreur en utilisant la fonction `raise` en Python."
   ]
  },
  {
   "cell_type": "code",
   "execution_count": null,
   "metadata": {},
   "outputs": [],
   "source": [
    "for test in [\"Pas d'erreur\", \"Affichage d'une erreur\"]:\n",
    "    print(f\"Test: {test}\")\n",
    "    if test == \"Affichage d'une erreur\":\n",
    "        raise Exception(\"Message d'erreur que je veux afficher\")\n",
    "    print(f\"Fin du test: {test}\\n\")"
   ]
  },
  {
   "cell_type": "code",
   "execution_count": null,
   "metadata": {},
   "outputs": [],
   "source": [
    "class Stack:\n",
    "    def __init__(self, max_size):\n",
    "        self.data_array = [None for i in range (max_size)]\n",
    "        self.max_size = max_size\n",
    "        # A COMPLETER remplacer \"None\" par la valeur initiale de current_size\n",
    "        self.current_size = None\n",
    "\n",
    "    def length(self):\n",
    "        # A COMPLETER A LA PLACE DE \"pass\"\n",
    "        pass\n",
    "\n",
    "    def is_empty(self):\n",
    "        # A COMPLETER A LA PLACE DE \"pass\"\n",
    "        pass\n",
    "\n",
    "    def push(self, value):\n",
    "        # A COMPLETER A LA PLACE DE \"pass\"\n",
    "        pass\n",
    "\n",
    "    def pop(self):\n",
    "        # A COMPLETER A LA PLACE DE \"pass\"\n",
    "        pass\n",
    "\n",
    "    def lookup(self):\n",
    "        # A COMPLETER A LA PLACE DE \"pass\"\n",
    "        pass"
   ]
  },
  {
   "cell_type": "code",
   "execution_count": null,
   "metadata": {},
   "outputs": [],
   "source": [
    "# Exemple d'utilisation\n",
    "stack = Stack(5) # Création d'une pile de taille 5\n",
    "stack.push(1) # Ajout de 1\n",
    "stack.push(2) # Ajout de 2\n",
    "stack.push('trois') # Ajout de 'trois'\n",
    "stack.push(4) # Ajout de 4\n",
    "\n",
    "print(f\"On retire le dernier élément de la pile: {stack.pop()}\") # Affiche 4\n",
    "print(f\"Le dernier élément de la pile est: {stack.lookup()}\") # Affiche 'trois'\n",
    "print(f\"La taille de la pile est: {stack.length()}\") # Affiche 3\n",
    "print(f\"Est-ce que la pile est vide? {stack.is_empty()}\") # Affiche False"
   ]
  },
  {
   "cell_type": "markdown",
   "metadata": {},
   "source": [
    "# Exercice 6"
   ]
  },
  {
   "cell_type": "code",
   "execution_count": null,
   "metadata": {},
   "outputs": [],
   "source": [
    "def rec_count(idx, count, string, letter):\n",
    "    if idx == len(string):\n",
    "        return count\n",
    "    if string[idx] == letter:\n",
    "        count += 1\n",
    "    return rec_count(idx + 1, count, string, letter)\n",
    "\n",
    "def ite_count(string, letter):\n",
    "    count = 0\n",
    "    for idx in range(len(string)):\n",
    "        if string[idx] == letter:\n",
    "            count += 1\n",
    "    return count"
   ]
  },
  {
   "cell_type": "code",
   "execution_count": null,
   "metadata": {},
   "outputs": [],
   "source": [
    "# Chaînes de caractères pour le test\n",
    "lorem_ipsum1 = \"A bove ante, ab asino retro, a stulto undique caveto\"\n",
    "lorem_ipsum2 = lorem_ipsum1 * 100\n",
    "\n",
    "print(f\"lorem_ipsum1 est de longueur {len(lorem_ipsum1)}\")\n",
    "print(f\"lorem_ipsum2 est de longueur {len(lorem_ipsum2)}\")"
   ]
  },
  {
   "cell_type": "code",
   "execution_count": null,
   "metadata": {},
   "outputs": [],
   "source": [
    "# Exemple d'utilisation\n",
    "caractere_a_compter = 'a'\n",
    "\n",
    "# MODIFIER LES APPELS DE FONCTIONS (REMPLACER LES \"None\") POUR QUE LE PROGRAMME FONCTIONNE\n",
    "\n",
    "print(f\"Nombre d'occurence de '{caractere_a_compter}' dans la première phrase:\")\n",
    "nbr_lr1_rec = rec_count(None, None, None, None)\n",
    "print(f\"En utilisant rec_count: {nbr_lr1_rec}\")\n",
    "nbr_lr1_ite = ite_count(None, None)\n",
    "print(f\"En utilisant ite_count: {nbr_lr1_ite}\")\n",
    "\n",
    "print(f\"Nombre d'occurence de '{caractere_a_compter}' dans la deuxième phrase:\")\n",
    "nbr_lr2_rec = rec_count(None, None, None, None)\n",
    "print(f\"En utilisant rec_count: {nbr_lr2_rec}\")\n",
    "nbr_lr2_ite = ite_count(None, None)\n",
    "print(f\"En utilisant ite_count: {nbr_lr2_ite}\")"
   ]
  },
  {
   "cell_type": "markdown",
   "metadata": {},
   "source": [
    "# Exercice 7"
   ]
  },
  {
   "cell_type": "code",
   "execution_count": null,
   "metadata": {},
   "outputs": [],
   "source": [
    "def create_palindrome(main_str, mid_char):\n",
    "    stack = Stack(len(main_str))\n",
    "    # A COMPLETER (en n'utilisant que des boucles, des print et des opérations sur la pile)"
   ]
  },
  {
   "cell_type": "code",
   "execution_count": null,
   "metadata": {},
   "outputs": [],
   "source": [
    "# On teste\n",
    "str_entree, caractere_milieu = \"ka\", \"y\"\n",
    "print(f\"create_palindrome({str_entree}, {caractere_milieu})\\n > \", end=\"\")\n",
    "create_palindrome(str_entree, caractere_milieu)\n",
    "\n",
    "str_entree, caractere_milieu = \"asanta\", \" \"\n",
    "print(f\"\\ncreate_palindrome({str_entree}, {caractere_milieu})\\n > \", end=\"\")\n",
    "create_palindrome(str_entree, caractere_milieu)"
   ]
  },
  {
   "cell_type": "markdown",
   "metadata": {},
   "source": [
    "# Exercice 8"
   ]
  },
  {
   "cell_type": "code",
   "execution_count": null,
   "metadata": {},
   "outputs": [],
   "source": [
    "def is_palindrome(string):\n",
    "    stack = Stack(len(string))\n",
    "    # A COMPLETER (en n'utilisant que des boucles, des print et des opérations sur la pile)"
   ]
  },
  {
   "cell_type": "code",
   "execution_count": null,
   "metadata": {},
   "outputs": [],
   "source": [
    "# On teste\n",
    "chaine_test = \"A Santa lived as a devil at NASA\"\n",
    "print(f\"Chaîne de caractères: {chaine_test}\")\n",
    "chaine_test_reformatee = chaine_test.lower().replace(\" \", \"\")\n",
    "print(f\"Chaîne de caractères reformatée: {chaine_test_reformatee}\")\n",
    "print(f\"Est-ce un palindrome? {is_palindrome(chaine_test_reformatee)}\")"
   ]
  },
  {
   "cell_type": "markdown",
   "metadata": {},
   "source": [
    "# Exercice 9"
   ]
  },
  {
   "cell_type": "code",
   "execution_count": null,
   "metadata": {},
   "outputs": [],
   "source": [
    "def is_palindrome_ite(string):\n",
    "    # A COMPLETER en itératif sans utiliser de pile (remplacer \"pass\" par votre code)\n",
    "    pass\n"
   ]
  },
  {
   "cell_type": "code",
   "execution_count": null,
   "metadata": {},
   "outputs": [],
   "source": [
    "# On teste\n",
    "chaine_test = \"A Santa lived as a devil at NASA\"\n",
    "print(f\"Chaîne de caractères: {chaine_test}\")\n",
    "chaine_test_reformatee = chaine_test.lower().replace(\" \", \"\")\n",
    "print(f\"Chaîne de caractères reformatée: {chaine_test_reformatee}\")\n",
    "print(f\"Est-ce un palindrome? {is_palindrome_ite(chaine_test_reformatee)}\")"
   ]
  },
  {
   "cell_type": "markdown",
   "metadata": {},
   "source": [
    "# Exercice 10"
   ]
  },
  {
   "cell_type": "code",
   "execution_count": null,
   "metadata": {},
   "outputs": [],
   "source": [
    "p_num = {\n",
    "    '(': 1,\n",
    "    ')': -1,\n",
    "    '[': 2,\n",
    "    ']': -2,\n",
    "    '{': 3,\n",
    "    '}': -3\n",
    "}\n",
    "\n",
    "def parenthesis(string):\n",
    "    global p_num\n",
    "    \n",
    "    stack = Stack(len(string))\n",
    "    # A COMPLETER (en n'utilisant que des boucles, des print et des opérations sur la pile)"
   ]
  },
  {
   "cell_type": "markdown",
   "metadata": {},
   "source": [
    "# Exercice 11"
   ]
  },
  {
   "cell_type": "code",
   "execution_count": null,
   "metadata": {},
   "outputs": [],
   "source": [
    "var_float = 3.14\n",
    "# Conversion en chaîne de caractères\n",
    "var_str = str(var_float)\n",
    "print(f\"Chaîne de caractères: {var_str}, de type {type(var_str).__name__}\")\n",
    "# Conversion en float\n",
    "var_float2 = float(var_str)\n",
    "print(f\"Float: {var_float2}, de type {type(var_float2).__name__}\")"
   ]
  },
  {
   "cell_type": "markdown",
   "metadata": {},
   "source": [
    "Reprendre la méthode de l'exercice 4."
   ]
  },
  {
   "cell_type": "code",
   "execution_count": null,
   "metadata": {},
   "outputs": [],
   "source": [
    "def calculator(symbols):\n",
    "    stack = Stack(len(symbols))\n",
    "    # A COMPLETER (en n'utilisant que des boucles, des print et des opérations sur la pile)"
   ]
  },
  {
   "cell_type": "code",
   "execution_count": null,
   "metadata": {},
   "outputs": [],
   "source": [
    "# On teste\n",
    "chaine_test = \"(((3+4)/((((2+4)-5)*4)/2))\"\n",
    "print(f\"Chaîne de caractères: {chaine_test}\", end=\" = \")\n",
    "calculator(chaine_test)"
   ]
  }
 ],
 "metadata": {
  "kernelspec": {
   "display_name": "Python 3",
   "language": "python",
   "name": "python3"
  },
  "language_info": {
   "codemirror_mode": {
    "name": "ipython",
    "version": 3
   },
   "file_extension": ".py",
   "mimetype": "text/x-python",
   "name": "python",
   "nbconvert_exporter": "python",
   "pygments_lexer": "ipython3",
   "version": "3.13.1"
  }
 },
 "nbformat": 4,
 "nbformat_minor": 2
}
