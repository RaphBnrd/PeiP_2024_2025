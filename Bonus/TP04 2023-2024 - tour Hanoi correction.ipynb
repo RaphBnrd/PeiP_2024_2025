{
 "cells": [
  {
   "cell_type": "markdown",
   "metadata": {},
   "source": [
    "> *Seul l'avant dernier bloc de code est à modifier*"
   ]
  },
  {
   "cell_type": "markdown",
   "metadata": {},
   "source": [
    "# TP4 : listes, piles, files (2023-2024)"
   ]
  },
  {
   "cell_type": "markdown",
   "metadata": {},
   "source": [
    "## Piles et tours de Hanoï"
   ]
  },
  {
   "cell_type": "markdown",
   "metadata": {},
   "source": [
    "**Piles et tours de Hanoï**\n",
    "\n",
    "Le problème des tours de Hanoï a été inventé par Édouard Lucas. Il est publié dans le tome 3 de ses Récréations mathématiques, parues à titre posthume en 1892.\n",
    "\n",
    "On dispose de n disques de tailles différentes que l'on peut empiler sur 3 emplacements en respectant les règles suivantes :\n",
    "- les disques sont déplacés un par un ;\n",
    "- un disque peut être empilé sur un emplacement vide ou sur un disque plus grand ;\n",
    "- un disque ne peut pas être empilé sur un disque plus petit.\n",
    "\n",
    "On souhaite trouver un algorithme pour déplacer une pile de n disques d'un emplacement vers un autre emplacement.\n",
    "\n",
    "On représente les disques par les entiers de 1 à n, du plus petit au plus grand. Les trois emplacements sont représentés par trois piles d'entiers éventuellement vides : déplacer un disque de la pile A vers la pile B revient à dépiler la pile A et empiler l'élément dépilé sur la pile B. Les trois piles sont regroupées dans un tableau. "
   ]
  },
  {
   "cell_type": "markdown",
   "metadata": {},
   "source": [
    "### Question 1\n",
    "\n",
    "On souhaite déplacer une pile de n disques de l'emplacement d'indice 2 vers l'emplacement d'indice 0 (on suppose que c'est possible).\n",
    "- a. Si on sait déplacer n-1 disques (n≥1), comment déplacer n disques ?\n",
    "- b. En déduire un algorithme récursif qui, étant donné le tableau des trois piles, le nombre de disques à déplacer, l'indice de la pile de départ et l'indice de la pile d'arrivée, effectue les déplacements nécessaires et modifie les piles en conséquence. On suppose le déplacement possible."
   ]
  },
  {
   "cell_type": "markdown",
   "metadata": {},
   "source": [
    "### Question 2\n",
    "\n",
    "On donne une implémentation d'une procédure d'affichage du tableau de piles, à appeler à chaque modification du tableau, ainsi que des fonctions primitives des piles :"
   ]
  },
  {
   "cell_type": "code",
   "execution_count": 1,
   "metadata": {},
   "outputs": [
    {
     "name": "stdout",
     "output_type": "stream",
     "text": [
      "\u001b[H\u001b[2J│ █████ │       │       │ \n"
     ]
    }
   ],
   "source": [
    "import os, time, copy\n",
    "\n",
    "def afficheTours(L, with_sleep=True): # ou plus simple : print(L)\n",
    "    W=max([j for i in L for j in i])\n",
    "    H=len(L[0])+len(L[1])+len(L[2])\n",
    "    os.system('clear')\n",
    "    for l in range(H-1,-1,-1):\n",
    "       ch=\"\\u2502 \"\n",
    "       for c in range(3):\n",
    "          nbCarres = 0 if l>=len(L[c]) else L[c][l]\n",
    "          ch += \"\\u2588\"*nbCarres + \" \"*(W-nbCarres) + \" \\u2502 \"\n",
    "    print(ch)\n",
    "    if with_sleep:\n",
    "      time.sleep(0.6)\n",
    "\n",
    "\n",
    "def empiler(P,x):\n",
    "   P.append(x)\n",
    "def depiler(P):\n",
    "   return P.pop()\n",
    "\n",
    "\n",
    "L=[[5,4,3,2,1],[],[]]\n",
    "afficheTours(L, with_sleep=False)"
   ]
  },
  {
   "cell_type": "markdown",
   "metadata": {},
   "source": [
    "On donne également une fonction pour dessiner la tour et sauvegarder une animation de l'exécution. "
   ]
  },
  {
   "cell_type": "code",
   "execution_count": 2,
   "metadata": {},
   "outputs": [],
   "source": [
    "import matplotlib.pyplot as plt\n",
    "import matplotlib.animation as animation\n",
    "from matplotlib.patches import Rectangle\n",
    "import matplotlib.colors as mcolors\n",
    "\n",
    "# Function to draw a single frame of the Tower of Hanoi\n",
    "def draw_towers(history, ax, step, num_disks, tower_labels=(\"A\", \"B\", \"C\"), disk_colors=None):\n",
    "    ax.clear()\n",
    "    ax.set_xlim(0, 4)\n",
    "    ax.set_ylim(0, num_disks + 2)\n",
    "    ax.set_xticks([1, 2, 3])\n",
    "    ax.set_xticklabels(tower_labels)\n",
    "    ax.set_yticks([])\n",
    "\n",
    "    # Draw the towers\n",
    "    towers = history[step]\n",
    "    for tower_idx, tower in enumerate(towers):\n",
    "        x_center = tower_idx + 1\n",
    "        for level, disk_size in enumerate(tower):  # Draw disks from bottom to top\n",
    "            disk_width = disk_size / num_disks * 0.8\n",
    "            color = disk_colors[disk_size - 1]\n",
    "            ax.add_patch(Rectangle(\n",
    "                (x_center - disk_width / 2, level + 1),  # Bottom-left corner\n",
    "                disk_width,  # Width\n",
    "                0.8,  # Height\n",
    "                color=color, alpha=0.9\n",
    "            ))\n",
    "\n",
    "    ax.set_title(f\"Step {step + 1}/{len(history)}\")\n",
    "\n",
    "# Function to generate the GIF\n",
    "def generate_hanoi_gif(history, duration, output_filename=\"hanoi.gif\"):\n",
    "    num_disks = max(max(tower) for towers in history for tower in towers if tower)\n",
    "\n",
    "    # Generate a consistent color palette for disks\n",
    "    color_names = list(mcolors.TABLEAU_COLORS)  # Use Tableau colors for consistency\n",
    "    disk_colors = [color_names[i % len(color_names)] for i in range(num_disks)]\n",
    "\n",
    "    fig, ax = plt.subplots(figsize=(6, 4))\n",
    "    frames = len(history) + 2  # Add 2 extra frames for the last image\n",
    "    interval = duration * 1000 / (frames - 2)  # Adjust interval for the extra frames\n",
    "\n",
    "    def update(step):\n",
    "        if step >= len(history):\n",
    "            step = len(history) - 1  # Keep showing the last frame\n",
    "        draw_towers(history, ax, step, num_disks, disk_colors=disk_colors)\n",
    "\n",
    "    ani = animation.FuncAnimation(\n",
    "        fig, update, frames=frames, interval=interval, repeat=False\n",
    "    )\n",
    "    ani.save(output_filename, writer=\"pillow\")\n",
    "    plt.close(fig)\n",
    "    print(f\"GIF saved as {output_filename}\")"
   ]
  },
  {
   "cell_type": "markdown",
   "metadata": {},
   "source": [
    "> Compléter la fonction `Hanoi` résoudre le problème des tours de Hanoï. Vous utiliserez les éventuellement les fonctions `empiler` et `depiler` définies plus haut. "
   ]
  },
  {
   "cell_type": "code",
   "execution_count": 3,
   "metadata": {},
   "outputs": [],
   "source": [
    "def Hanoi(L, depart, arrivee, nbdisques, \n",
    "          with_sleep=True, history=None, display=True):\n",
    "   \"\"\" \n",
    "   Les arguments utiles pour la logique de la fonction sont :\n",
    "      - L : liste des trois piles représentant A, B et C\n",
    "      - depart, arrivee : indice des piles de départ et d'arrivée\n",
    "      - nbdisques : nombre de disques à déplacer\n",
    "   Les autres arguments sont propres à l'affichage :\n",
    "      - with_sleep : si True, on attend entre chaque mouvement\n",
    "      - history : liste pour stocker l'état des tours à chaque étape\n",
    "      - display : si True, on affiche les tours après chaque mouvement\n",
    "   \"\"\"\n",
    "   # MODIFIER LA CONDITION D'ARRET (ligne suivante)\n",
    "   if nbdisques > 0:\n",
    "      # --- A COMPLETER ICI ---\n",
    "      intermediaire = 3-depart-arrivee\n",
    "      Hanoi(L,depart,intermediaire,nbdisques-1, with_sleep, history, display)\n",
    "      empiler(L[arrivee],depiler(L[depart]))\n",
    "      # --- ---\n",
    "\n",
    "      # Instruction pour l'affichage\n",
    "      if display:\n",
    "         afficheTours(L, with_sleep)\n",
    "      if history is not None:\n",
    "         history.append(copy.deepcopy(L))\n",
    "      \n",
    "      # --- A COMPLETER ICI ---\n",
    "      Hanoi(L, intermediaire, arrivee, nbdisques-1, with_sleep, history, display)\n",
    "      # --- ---"
   ]
  },
  {
   "cell_type": "markdown",
   "metadata": {},
   "source": [
    "Maintenant, on teste la fonction (un fichier `tower_of_hanoi.gif` sera créé à côté de ce notebook)."
   ]
  },
  {
   "cell_type": "code",
   "execution_count": 5,
   "metadata": {},
   "outputs": [
    {
     "name": "stdout",
     "output_type": "stream",
     "text": [
      "\u001b[H\u001b[2J│ █ │   │   │ \n",
      "\u001b[H\u001b[2J│   │ █ │   │ \n",
      "GIF saved as tower_of_hanoi-1.gif\n",
      "\u001b[H\u001b[2J│ ██ │    │    │ \n",
      "\u001b[H\u001b[2J│    │ ██ │    │ \n",
      "GIF saved as tower_of_hanoi-2.gif\n",
      "\u001b[H\u001b[2J│ ███ │     │     │ \n",
      "\u001b[H\u001b[2J│     │ ███ │     │ \n",
      "GIF saved as tower_of_hanoi-3.gif\n",
      "\u001b[H\u001b[2J│ ████ │      │      │ \n",
      "\u001b[H\u001b[2J│      │ ████ │      │ \n",
      "GIF saved as tower_of_hanoi-4.gif\n",
      "\u001b[H\u001b[2J│ █████ │       │       │ \n",
      "\u001b[H\u001b[2J│       │ █████ │       │ \n",
      "GIF saved as tower_of_hanoi-5.gif\n"
     ]
    }
   ],
   "source": [
    "# n_disks = 5\n",
    "for n_disks in range(1, 6):\n",
    "    L = [[n_disks-i for i in range(n_disks)],[],[]]\n",
    "\n",
    "    # L'historique est utilisé pour stocker les états des tours (pour le GIF)\n",
    "    history=[copy.deepcopy(L)]\n",
    "    afficheTours(L, with_sleep=False) # affiche l'état initial\n",
    "    # Appel de la fonction Hanoi pour bouger les disques de A (0) vers B (1)\n",
    "    Hanoi(L,0,1,n_disks, with_sleep=False, history=history, display=False) \n",
    "    # Affiche l'état final\n",
    "    afficheTours(L, with_sleep=False)\n",
    "\n",
    "    # Création du GIF\n",
    "    duration = len(history)/2  # Durée totale du GIF en secondes\n",
    "    generate_hanoi_gif(history, duration, f\"tower_of_hanoi-{n_disks}.gif\")"
   ]
  }
 ],
 "metadata": {
  "kernelspec": {
   "display_name": "Python 3",
   "language": "python",
   "name": "python3"
  },
  "language_info": {
   "codemirror_mode": {
    "name": "ipython",
    "version": 3
   },
   "file_extension": ".py",
   "mimetype": "text/x-python",
   "name": "python",
   "nbconvert_exporter": "python",
   "pygments_lexer": "ipython3",
   "version": "3.13.1"
  }
 },
 "nbformat": 4,
 "nbformat_minor": 2
}
