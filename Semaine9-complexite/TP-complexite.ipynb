{
 "cells": [
  {
   "cell_type": "markdown",
   "metadata": {},
   "source": [
    "# TP5 : temps de calcul\n",
    "\n",
    "On veut comparer la complexité de trois fonctions qui calculent le même résultat en mesurant leur temps d'exécution."
   ]
  },
  {
   "cell_type": "code",
   "execution_count": null,
   "metadata": {},
   "outputs": [],
   "source": [
    "import matplotlib.pyplot as plt"
   ]
  },
  {
   "cell_type": "markdown",
   "metadata": {},
   "source": [
    "## 5.1. Les fonctions\n",
    "\n",
    "Ecrire trois fonctions qui, étant donné un entier naturel, calcule et renvoie la somme des entiers de 1 à n :\n",
    "\n",
    "- `sommeIter` utilise une boucle pour ;\n",
    "- `sommeRec` utilise un appel récursif ;\n",
    "- `sommeDirect` renvoie directement le résultat : n(n+1)/2."
   ]
  },
  {
   "cell_type": "code",
   "execution_count": null,
   "metadata": {},
   "outputs": [],
   "source": [
    "def sommeIter(n):\n",
    "    # A COMPLETER (à la place de pass)\n",
    "    pass\n",
    "\n",
    "def sommeRec(n):\n",
    "    # A COMPLETER (à la place de pass)\n",
    "    pass\n",
    "\n",
    "def sommeDirect(n):\n",
    "    # A COMPLETER (à la place de pass)\n",
    "    pass"
   ]
  },
  {
   "cell_type": "code",
   "execution_count": null,
   "metadata": {},
   "outputs": [],
   "source": [
    "# On teste les trois fonctions\n",
    "n = 100\n",
    "\n",
    "print(f\"Somme itérative de {n} : {sommeIter(n)}\")\n",
    "print(f\"Somme récursive de {n} : {sommeRec(n)}\")\n",
    "print(f\"Somme directe de {n} :   {sommeDirect(n)}\")"
   ]
  },
  {
   "cell_type": "markdown",
   "metadata": {},
   "source": [
    "Quel est l'ordre de complexité de ces fonctions ?"
   ]
  },
  {
   "cell_type": "markdown",
   "metadata": {},
   "source": [
    "## 5.2. Mesure du temps d'exécution\n",
    "\n",
    "Pour mesurer le temps d'exécution d'une fonction, on va utiliser la fonction `time()` du module `time`. Le temps d'exécution sera mesuré par la différence entre les résultats de `time()` avant et après l'exécution de la fonction. Ecrire une fonction `tempsExecution` qui, étant donné un entier n et une fonction f, renvoie le temps d'exécution de f(n).\n",
    "\n",
    "Pour importer la fonction time : \"`from time import time`\"."
   ]
  },
  {
   "cell_type": "code",
   "execution_count": null,
   "metadata": {},
   "outputs": [],
   "source": [
    "# Importer la fonction time du module time (1 ligne de code)\n",
    "\n",
    "\n",
    "def tempsExecution(n, f):\n",
    "    # A COMPLETER (à la place de pass)\n",
    "    pass"
   ]
  },
  {
   "cell_type": "code",
   "execution_count": null,
   "metadata": {},
   "outputs": [],
   "source": [
    "# On teste\n",
    "n = 100\n",
    "print(f\"Temps d'exécution de la somme itérative de {n} : {tempsExecution(n, sommeIter):.2e} secondes\")\n",
    "print(f\"Temps d'exécution de la somme récursive de {n} : {tempsExecution(n, sommeRec):.2e} secondes\")\n",
    "print(f\"Temps d'exécution de la somme directe de {n} :   {tempsExecution(n, sommeDirect):.2e} secondes\")"
   ]
  },
  {
   "cell_type": "markdown",
   "metadata": {},
   "source": [
    "## 5.3. Comparaison\n",
    "\n",
    "Comparer les temps d'exécution pour différentes valeurs de n. Pour quelles valeurs de commence-t-on à voir apparaître une différence ?\n",
    "\n",
    "Pour cela, implémenter une fonction `comparaisonTableau` qui prend en argument un entier N et une fonction f, et qui renvoie une liste contenant les temps d'exécution de f pour les valeurs de 1 à N. On pourra utiliser la fonction `tempsExecution` pour cela."
   ]
  },
  {
   "cell_type": "code",
   "execution_count": null,
   "metadata": {},
   "outputs": [],
   "source": [
    "def comparaisonTableau(N, f):\n",
    "    # A COMPLETER (à la place de pass)\n",
    "    pass"
   ]
  },
  {
   "cell_type": "code",
   "execution_count": null,
   "metadata": {},
   "outputs": [],
   "source": [
    "# On teste la fonction\n",
    "N = 2500\n",
    "t_Iter = comparaisonTableau(N, sommeIter)\n",
    "t_Rec = comparaisonTableau(N, sommeRec)\n",
    "t_Direct = comparaisonTableau(N, sommeDirect)\n",
    "\n",
    "# Affichage des temps d'exécution\n",
    "plt.figure(figsize=(6, 4))\n",
    "plt.plot(range(N), t_Iter, label='Itératif')\n",
    "plt.plot(range(N), t_Rec, label='Récursif')\n",
    "plt.plot(range(N), t_Direct, label='Direct')\n",
    "plt.xlabel('n')\n",
    "plt.ylabel('Temps d\\'exécution (s)')\n",
    "plt.title('Comparaison des temps d\\'exécution')\n",
    "plt.legend()\n",
    "plt.grid()"
   ]
  },
  {
   "cell_type": "markdown",
   "metadata": {},
   "source": [
    "Les temps d'exécutions peuvent être variables d'une exécution à l'autre. Pour vous en convaincre, vous pouvez exécuter plusieurs fois le bloc de code précédent.\n",
    "\n",
    "Pour palier à cette variabilité, on propose de moyenner les temps calculés sur plusieurs exécutions. \n",
    "\n",
    "Implémenter une fonction `tempsMoyen` qui prend en argument un entier n, une fonction f et un entier p, et qui revoie le temps d'exécution moyen de f pour n, sur p exécutions.\n",
    "On pourra utiliser la fonction `tempsExecution` pour cela."
   ]
  },
  {
   "cell_type": "code",
   "execution_count": null,
   "metadata": {},
   "outputs": [],
   "source": [
    "def tempsMoyen(n, f, p=10):\n",
    "    # A COMPLETER (à la place de pass)\n",
    "    pass"
   ]
  },
  {
   "cell_type": "code",
   "execution_count": null,
   "metadata": {},
   "outputs": [],
   "source": [
    "# On teste\n",
    "n, p = 100, 100\n",
    "print(f\"Temps d'exécution moyen de la somme itérative de {n} : {tempsMoyen(n, sommeIter, p):.2e} secondes\")\n",
    "print(f\"Temps d'exécution moyen de la somme récursive de {n} : {tempsMoyen(n, sommeRec, p):.2e} secondes\")\n",
    "print(f\"Temps d'exécution moyen de la somme directe de {n} :   {tempsMoyen(n, sommeDirect, p):.2e} secondes\")"
   ]
  },
  {
   "cell_type": "markdown",
   "metadata": {},
   "source": [
    "Implémenter une fonction `comparaisonTableauMoyen`, similaire à `comparaisonTableau`, mais qui utilise `tempsMoyen` pour calculer les temps d'exécution. Cette fonction prend en argument un entier N, une fonction f et un entier p, et renvoie une liste contenant les temps d'exécution moyens de f pour les valeurs de 1 à N sur p exécutions."
   ]
  },
  {
   "cell_type": "code",
   "execution_count": null,
   "metadata": {},
   "outputs": [],
   "source": [
    "def comparaisonTableauMoyen(N, f, p=10):\n",
    "    # A COMPLETER (à la place de pass)\n",
    "    pass"
   ]
  },
  {
   "cell_type": "code",
   "execution_count": null,
   "metadata": {},
   "outputs": [],
   "source": [
    "# On teste la fonction\n",
    "N, p = 1000, 200\n",
    "t_Iter_moy = comparaisonTableauMoyen(N, sommeIter, p)\n",
    "t_Rec_moy = comparaisonTableauMoyen(N, sommeRec, p)\n",
    "t_Direct_moy = comparaisonTableauMoyen(N, sommeDirect, p)\n",
    "\n",
    "# Affichage des temps d'exécution moyens\n",
    "plt.figure(figsize=(6, 4))\n",
    "plt.plot(range(N), t_Iter_moy, label='Itératif')\n",
    "plt.plot(range(N), t_Rec_moy, label='Récursif')\n",
    "plt.plot(range(N), t_Direct_moy, label='Direct')\n",
    "plt.xlabel('n')\n",
    "plt.ylabel('Temps d\\'exécution moyen (s)')\n",
    "plt.title(f'Comparaison des temps d\\'exécution moyens (p={p})')\n",
    "plt.legend()\n",
    "plt.grid()\n",
    "plt.show()"
   ]
  },
  {
   "cell_type": "markdown",
   "metadata": {},
   "source": [
    "## Défi n°3 (source : leetcode.com)\n",
    "\n",
    "On dispose d'un tableau d'entiers naturels T. Au début, on est sur la première case. A chaque étape, on lit le contenu C de la case courante et on avance d'au plus C cases vers la droite, et on recommence. \n",
    "\n",
    "Ecrire un algorithme qui, étant donné le tableau T, calcule s'il est possible ou non d'atteindre sa dernière case.\n",
    "\n",
    "Par exemple, pour T=[2,3,1,1,4], c'est possible : à partir de la première case (contenu : 2), on avance d'une case (contenu : 3) puis de 3 cases.\n",
    "En revanche, pour T=[3,2,1,0,4], c'est impossible : quoi qu'on fasse, on finit par atterrir sur T[3] et on est bloqué."
   ]
  },
  {
   "cell_type": "code",
   "execution_count": null,
   "metadata": {},
   "outputs": [],
   "source": [
    "def peutAtteindreDerniereCase(T):\n",
    "    # A COMPLETER (à la place de pass)\n",
    "    pass"
   ]
  },
  {
   "cell_type": "code",
   "execution_count": null,
   "metadata": {},
   "outputs": [],
   "source": [
    "# On teste\n",
    "T1 = [2, 3, 1, 1, 4]\n",
    "T2 = [3, 2, 1, 0, 4]\n",
    "print(f\"Peut-on atteindre la dernière case de {T1} ? {peutAtteindreDerniereCase(T1)}\")\n",
    "print(f\"Peut-on atteindre la dernière case de {T2} ? {peutAtteindreDerniereCase(T2)}\")"
   ]
  }
 ],
 "metadata": {
  "kernelspec": {
   "display_name": "Python 3",
   "language": "python",
   "name": "python3"
  },
  "language_info": {
   "codemirror_mode": {
    "name": "ipython",
    "version": 3
   },
   "file_extension": ".py",
   "mimetype": "text/x-python",
   "name": "python",
   "nbconvert_exporter": "python",
   "pygments_lexer": "ipython3",
   "version": "3.13.2"
  }
 },
 "nbformat": 4,
 "nbformat_minor": 2
}
